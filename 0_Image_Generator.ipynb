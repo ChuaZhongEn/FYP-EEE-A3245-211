{
  "cells": [
    {
      "cell_type": "markdown",
      "source": [
        "# **FYP-EEE-A3245-211**\n",
        "# **Face Transformation using StyleGAN**\n",
        "\n",
        "This is a Google Colab notebook for generating StyleGAN2 images.\n"
      ],
      "metadata": {
        "id": "uzKvoES-fv5D"
      }
    },
    {
      "cell_type": "markdown",
      "source": [
        "---\n",
        "# **0. Install/Import Prerequisites**"
      ],
      "metadata": {
        "id": "tXbwUsVUfvMm"
      }
    },
    {
      "cell_type": "code",
      "source": [
        "!pip install --upgrade --no-cache-dir gdown"
      ],
      "metadata": {
        "colab": {
          "base_uri": "https://localhost:8080/"
        },
        "id": "XjjUGZ_efeo2",
        "outputId": "cfa6aa27-5482-4a7c-fb58-e7974bac326d"
      },
      "execution_count": 1,
      "outputs": [
        {
          "output_type": "stream",
          "name": "stdout",
          "text": [
            "Requirement already satisfied: gdown in /usr/local/lib/python3.7/dist-packages (4.2.2)\n",
            "Collecting gdown\n",
            "  Downloading gdown-4.4.0.tar.gz (14 kB)\n",
            "  Installing build dependencies ... \u001b[?25l\u001b[?25hdone\n",
            "  Getting requirements to build wheel ... \u001b[?25l\u001b[?25hdone\n",
            "    Preparing wheel metadata ... \u001b[?25l\u001b[?25hdone\n",
            "Requirement already satisfied: beautifulsoup4 in /usr/local/lib/python3.7/dist-packages (from gdown) (4.6.3)\n",
            "Requirement already satisfied: six in /usr/local/lib/python3.7/dist-packages (from gdown) (1.15.0)\n",
            "Requirement already satisfied: filelock in /usr/local/lib/python3.7/dist-packages (from gdown) (3.6.0)\n",
            "Requirement already satisfied: requests[socks] in /usr/local/lib/python3.7/dist-packages (from gdown) (2.23.0)\n",
            "Requirement already satisfied: tqdm in /usr/local/lib/python3.7/dist-packages (from gdown) (4.63.0)\n",
            "Requirement already satisfied: idna<3,>=2.5 in /usr/local/lib/python3.7/dist-packages (from requests[socks]->gdown) (2.10)\n",
            "Requirement already satisfied: chardet<4,>=3.0.2 in /usr/local/lib/python3.7/dist-packages (from requests[socks]->gdown) (3.0.4)\n",
            "Requirement already satisfied: urllib3!=1.25.0,!=1.25.1,<1.26,>=1.21.1 in /usr/local/lib/python3.7/dist-packages (from requests[socks]->gdown) (1.24.3)\n",
            "Requirement already satisfied: certifi>=2017.4.17 in /usr/local/lib/python3.7/dist-packages (from requests[socks]->gdown) (2021.10.8)\n",
            "Requirement already satisfied: PySocks!=1.5.7,>=1.5.6 in /usr/local/lib/python3.7/dist-packages (from requests[socks]->gdown) (1.7.1)\n",
            "Building wheels for collected packages: gdown\n",
            "  Building wheel for gdown (PEP 517) ... \u001b[?25l\u001b[?25hdone\n",
            "  Created wheel for gdown: filename=gdown-4.4.0-py3-none-any.whl size=14774 sha256=703ec5605922667d5b3c8adfb4b9e627341cc35ce97d8975fca0356631247e4b\n",
            "  Stored in directory: /tmp/pip-ephem-wheel-cache-3m_ysxsy/wheels/fb/c3/0e/c4d8ff8bfcb0461afff199471449f642179b74968c15b7a69c\n",
            "Successfully built gdown\n",
            "Installing collected packages: gdown\n",
            "  Attempting uninstall: gdown\n",
            "    Found existing installation: gdown 4.2.2\n",
            "    Uninstalling gdown-4.2.2:\n",
            "      Successfully uninstalled gdown-4.2.2\n",
            "Successfully installed gdown-4.4.0\n"
          ]
        }
      ]
    },
    {
      "cell_type": "code",
      "source": [
        "!pip install ninja"
      ],
      "metadata": {
        "colab": {
          "base_uri": "https://localhost:8080/"
        },
        "id": "T7uLYCICfcZH",
        "outputId": "81f3f7b6-db9c-48dd-afb4-d6d6648ab85d"
      },
      "execution_count": 2,
      "outputs": [
        {
          "output_type": "stream",
          "name": "stdout",
          "text": [
            "Collecting ninja\n",
            "  Downloading ninja-1.10.2.3-py2.py3-none-manylinux_2_5_x86_64.manylinux1_x86_64.whl (108 kB)\n",
            "\u001b[?25l\r\u001b[K     |███                             | 10 kB 22.6 MB/s eta 0:00:01\r\u001b[K     |██████                          | 20 kB 28.2 MB/s eta 0:00:01\r\u001b[K     |█████████                       | 30 kB 22.0 MB/s eta 0:00:01\r\u001b[K     |████████████▏                   | 40 kB 19.5 MB/s eta 0:00:01\r\u001b[K     |███████████████▏                | 51 kB 9.0 MB/s eta 0:00:01\r\u001b[K     |██████████████████▏             | 61 kB 10.3 MB/s eta 0:00:01\r\u001b[K     |█████████████████████▏          | 71 kB 9.7 MB/s eta 0:00:01\r\u001b[K     |████████████████████████▎       | 81 kB 10.3 MB/s eta 0:00:01\r\u001b[K     |███████████████████████████▎    | 92 kB 11.3 MB/s eta 0:00:01\r\u001b[K     |██████████████████████████████▎ | 102 kB 9.7 MB/s eta 0:00:01\r\u001b[K     |████████████████████████████████| 108 kB 9.7 MB/s \n",
            "\u001b[?25hInstalling collected packages: ninja\n",
            "Successfully installed ninja-1.10.2.3\n"
          ]
        }
      ]
    },
    {
      "cell_type": "code",
      "source": [
        "# clone StyleGAN2 repo\n",
        "!git clone https://github.com/NVlabs/stylegan2-ada-pytorch"
      ],
      "metadata": {
        "colab": {
          "base_uri": "https://localhost:8080/"
        },
        "id": "aVipkyoTfZcF",
        "outputId": "40574877-578f-45da-c25b-153605f122ff"
      },
      "execution_count": 3,
      "outputs": [
        {
          "output_type": "stream",
          "name": "stdout",
          "text": [
            "Cloning into 'stylegan2-ada-pytorch'...\n",
            "remote: Enumerating objects: 128, done.\u001b[K\n",
            "remote: Total 128 (delta 0), reused 0 (delta 0), pack-reused 128\u001b[K\n",
            "Receiving objects: 100% (128/128), 1.12 MiB | 26.09 MiB/s, done.\n",
            "Resolving deltas: 100% (57/57), done.\n"
          ]
        }
      ]
    },
    {
      "cell_type": "code",
      "source": [
        "# download pretrained network (stylegan2-ffhq-config-f)\n",
        "!gdown --id 1f9ZWi2iV26AMixY1dtO_tkc59oSCvDTS"
      ],
      "metadata": {
        "colab": {
          "base_uri": "https://localhost:8080/"
        },
        "id": "a3yJkva7f5Rp",
        "outputId": "c577e6ee-220c-4854-f326-50cba0aad4a4"
      },
      "execution_count": 4,
      "outputs": [
        {
          "output_type": "stream",
          "name": "stdout",
          "text": [
            "/usr/local/lib/python3.7/dist-packages/gdown/cli.py:131: FutureWarning: Option `--id` was deprecated in version 4.3.1 and will be removed in 5.0. You don't need to pass it anymore to use a file ID.\n",
            "  category=FutureWarning,\n",
            "Downloading...\n",
            "From: https://drive.google.com/uc?id=1f9ZWi2iV26AMixY1dtO_tkc59oSCvDTS\n",
            "To: /content/stylegan2-ffhq-config-f.pkl\n",
            "100% 382M/382M [00:03<00:00, 113MB/s]\n"
          ]
        }
      ]
    },
    {
      "cell_type": "markdown",
      "metadata": {
        "id": "2R-XmmI_eqyD"
      },
      "source": [
        "# **1. StyleGAN Setup**"
      ]
    },
    {
      "cell_type": "code",
      "source": [
        "%cd /content/stylegan2-ada-pytorch"
      ],
      "metadata": {
        "colab": {
          "base_uri": "https://localhost:8080/"
        },
        "id": "516gIf86flA0",
        "outputId": "b4d613f7-1cf0-4a70-d5ba-740aacc8254f"
      },
      "execution_count": 5,
      "outputs": [
        {
          "output_type": "stream",
          "name": "stdout",
          "text": [
            "/content/stylegan2-ada-pytorch\n"
          ]
        }
      ]
    },
    {
      "cell_type": "code",
      "execution_count": 6,
      "metadata": {
        "id": "06WNOVaTeqyL"
      },
      "outputs": [],
      "source": [
        "import torch\n",
        "import random\n",
        "import warnings\n",
        "import numpy as np\n",
        "\n",
        "from tqdm import tqdm\n",
        "from PIL import Image\n",
        "\n",
        "import dnnlib\n",
        "import legacy"
      ]
    },
    {
      "cell_type": "code",
      "execution_count": 7,
      "metadata": {
        "id": "d2svY8HueqyO"
      },
      "outputs": [],
      "source": [
        "# Generate latent vector\n",
        "def generate_latent_vector(seed, shape):\n",
        "  # Construct random number generator\n",
        "  # Generate vector of size[1,512]\n",
        "  rnd = np.random.RandomState(seed)\n",
        "  z = rnd.randn(1, shape)\n",
        "  return z\n",
        "\n",
        "# Generate Image\n",
        "def generate_image(z, label, truncation_psi=0.5, noise_mode=\"const\"):\n",
        "  z = torch.from_numpy(z).to(device)\n",
        "  img_gpu = G(z, label, truncation_psi=truncation_psi, noise_mode=noise_mode)\n",
        "  img_tensor = (img_gpu.permute(0, 2, 3, 1) * 127.5 + 128).clamp(0, 255).to(torch.uint8)\n",
        "  img = np.transpose(img_tensor.cpu().numpy()[0], (0,1,2))\n",
        "  return img"
      ]
    },
    {
      "cell_type": "code",
      "execution_count": 8,
      "metadata": {
        "id": "X4j90Qm3eqyP"
      },
      "outputs": [],
      "source": [
        "# Get shape of latent vector and torch label\n",
        "def setup_image_generation(G, device):\n",
        "  z_shape = G.z_dim\n",
        "  zero_label = torch.zeros([1, G.c_dim], device=device)\n",
        "  # print('Setting up image generation...', end=' ')\n",
        "  z = generate_latent_vector(0, z_shape)\n",
        "  img = generate_image(z, zero_label)\n",
        "  del z, img\n",
        "  # print('Done')\n",
        "  return z_shape, zero_label\n",
        "\n",
        "# Check if cuda is available\n",
        "def torch_is_cuda_available():\n",
        "  if torch.cuda.is_available(): \n",
        "    print('CUDA is available. Using device \\'0\\': %s'%(torch.cuda.get_device_name(0)))\n",
        "    return 'cuda'\n",
        "  else:\n",
        "    warnings.warn('Warning! Using CPU...')\n",
        "    return 'cpu'\n",
        "\n",
        "def load_network(path_to_network):\n",
        "  print('Unpacking network file...', end=' ')\n",
        "  with dnnlib.util.open_url(path_to_network) as f:\n",
        "      G = legacy.load_network_pkl(f)['G_ema'].to(device)\n",
        "  print('Done')\n",
        "  return G"
      ]
    },
    {
      "cell_type": "code",
      "execution_count": 10,
      "metadata": {
        "colab": {
          "base_uri": "https://localhost:8080/"
        },
        "id": "ywCPF0xCeqyS",
        "outputId": "4d04ef83-15ed-4792-c01f-8c56a8e3e312"
      },
      "outputs": [
        {
          "output_type": "stream",
          "name": "stderr",
          "text": [
            "/usr/local/lib/python3.7/dist-packages/ipykernel_launcher.py:18: UserWarning: Warning! Using CPU...\n"
          ]
        },
        {
          "output_type": "stream",
          "name": "stdout",
          "text": [
            "Unpacking network file... No CUDA runtime is found, using CUDA_HOME='/usr/local/cuda'\n",
            "Done\n",
            "Ready\n"
          ]
        }
      ],
      "source": [
        "# Initialize network and setup for image generation\n",
        "device = torch.device(torch_is_cuda_available())\n",
        "path_to_network = '/content/stylegan2-ffhq-config-f.pkl'\n",
        "G = load_network(path_to_network)\n",
        "(z_shape, label) = setup_image_generation(G, device)\n",
        "print('Ready')"
      ]
    },
    {
      "cell_type": "markdown",
      "metadata": {
        "id": "sSPp_PgyeqyT"
      },
      "source": [
        "---"
      ]
    },
    {
      "cell_type": "markdown",
      "metadata": {
        "id": "WsYuC9PDeqyU"
      },
      "source": [
        "# **2. Generate and Save Images**"
      ]
    },
    {
      "cell_type": "code",
      "source": [
        "# create folder to hold output\n",
        "!mkdir /content/output"
      ],
      "metadata": {
        "id": "zkHqbxORgbaU"
      },
      "execution_count": 11,
      "outputs": []
    },
    {
      "cell_type": "code",
      "execution_count": 12,
      "metadata": {
        "id": "S8Ucs3lmeqyW"
      },
      "outputs": [],
      "source": [
        "# path to output folder\n",
        "path = '/content/output'"
      ]
    },
    {
      "cell_type": "code",
      "execution_count": 16,
      "metadata": {
        "id": "KSK_erhleqyY"
      },
      "outputs": [],
      "source": [
        "# Choose starting and ending seed\n",
        "start = 0\n",
        "end = 1000"
      ]
    },
    {
      "cell_type": "code",
      "execution_count": 19,
      "metadata": {
        "colab": {
          "base_uri": "https://localhost:8080/"
        },
        "id": "4TS_xYEmeqya",
        "outputId": "888a0d19-5bb5-423c-efb9-0d7ddb9391e1"
      },
      "outputs": [
        {
          "output_type": "stream",
          "name": "stderr",
          "text": [
            "Generating Images...: 100%|██████████| 5/5 [00:25<00:00,  5.10s/it]"
          ]
        },
        {
          "output_type": "stream",
          "name": "stdout",
          "text": [
            "\n",
            "Done...\n"
          ]
        },
        {
          "output_type": "stream",
          "name": "stderr",
          "text": [
            "\n"
          ]
        }
      ],
      "source": [
        "for idx in tqdm(range(start, end, 1), desc='Generating Images...'):\n",
        "    z = generate_latent_vector(idx, z_shape)  # generate latent vector\n",
        "    img = generate_image(z, label)  # generate image (np)\n",
        "    img = Image.fromarray(img)  # np to PIL conversion\n",
        "    img.save(path + '/seed_%d.png'%(idx), 'PNG')  # save image as PNG\n",
        "print('\\nDone...')"
      ]
    }
  ],
  "metadata": {
    "interpreter": {
      "hash": "585f203a25c984c69f971c196c2e5369bcc8481877c63ff30b7c5932b84b30b1"
    },
    "kernelspec": {
      "display_name": "Python 3.7.9 64-bit ('PyTorch': conda)",
      "language": "python",
      "name": "python3"
    },
    "language_info": {
      "codemirror_mode": {
        "name": "ipython",
        "version": 3
      },
      "file_extension": ".py",
      "mimetype": "text/x-python",
      "name": "python",
      "nbconvert_exporter": "python",
      "pygments_lexer": "ipython3",
      "version": "3.7.9"
    },
    "orig_nbformat": 4,
    "colab": {
      "name": "generator.ipynb",
      "provenance": [],
      "collapsed_sections": []
    }
  },
  "nbformat": 4,
  "nbformat_minor": 0
}